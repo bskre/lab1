{
  "cells": [
    {
      "cell_type": "markdown",
      "metadata": {
        "id": "M-DGa20PaHnu"
      },
      "source": [
        "#Задача 1\n",
        "Написать функцию на вход которой подается строка, состоящая из латинских букв.\n",
        "Функция должна вернуть количество гласных букв (a, e, i, o, u) в этой строке. Написать тесты для кода"
      ]
    },
    {
      "cell_type": "code",
      "execution_count": 13,
      "metadata": {
        "id": "XvX8X_JJ6PCb"
      },
      "outputs": [
        {
          "name": "stdout",
          "output_type": "stream",
          "text": [
            "True\n",
            "True\n",
            "True\n"
          ]
        }
      ],
      "source": [
        "# Your code goes here\n",
        "#text = input()\n",
        "def text_analis(text):\n",
        "    count = 0\n",
        "    for ch in text:\n",
        "        if ch in ['a', 'e', 'i', 'o', 'u']:\n",
        "            count+=1\n",
        "    return count\n",
        "\n",
        "test_1 = 'aaaawwww'\n",
        "test_2 = 'awawawaw'\n",
        "test_3 = 'aeiou'\n",
        "\n",
        "print(text_analis(test_1) == 4)\n",
        "print(text_analis(test_2) == 4)\n",
        "print(text_analis(test_3) == 5)"
      ]
    },
    {
      "cell_type": "markdown",
      "metadata": {
        "id": "t2ClV_Y0bbr6"
      },
      "source": [
        "# Задача 2\n",
        "Написать функцию на вход, которой подается строка. Функция должна вернуть true, если\n",
        "каждый символ в строке встречается только 1 раз, иначе должна вернуть false. Написать тесты для кода"
      ]
    },
    {
      "cell_type": "code",
      "execution_count": 14,
      "metadata": {
        "id": "FppbECao6VIz"
      },
      "outputs": [
        {
          "name": "stdout",
          "output_type": "stream",
          "text": [
            "True \n",
            " False \n",
            " False \n",
            " False\n"
          ]
        }
      ],
      "source": [
        "# Your code goes here\n",
        "def has_unique_chars(text):\n",
        "    chars = []\n",
        "    for ch in text:\n",
        "        if ch in chars:\n",
        "            return False\n",
        "        chars.append(ch)\n",
        "    return True\n",
        "\n",
        "test_1 = 'qwerty'\n",
        "test_2 = 'qqwerty'\n",
        "test_3 = 'qwerrty'\n",
        "test_4 = 'qwertyq'\n",
        "\n",
        "print(has_unique_chars(test_1), '\\n', \n",
        "      has_unique_chars(test_2), '\\n',\n",
        "      has_unique_chars(test_3), '\\n',\n",
        "      has_unique_chars(test_4))"
      ]
    },
    {
      "cell_type": "markdown",
      "metadata": {
        "id": "udRiIK1cdt6E"
      },
      "source": [
        "# Задача 3\n",
        "Написать функцию, которая принимает положительное число и возвращает количество\n",
        "бит равных 1 в этом числе. Написать тесты для кода"
      ]
    },
    {
      "cell_type": "code",
      "execution_count": 15,
      "metadata": {
        "id": "6tkfDJRz6dp_"
      },
      "outputs": [
        {
          "name": "stdout",
          "output_type": "stream",
          "text": [
            "True \n",
            " True \n",
            " True \n",
            " True\n"
          ]
        }
      ],
      "source": [
        "# Your code goes here\n",
        "def get_bit(num):\n",
        "    count = 0\n",
        "    while num != 0:\n",
        "        count += num % 2\n",
        "        num //= 2\n",
        "    return count \n",
        "\n",
        "test_1 = 1 #1\n",
        "test_2 = 2 #10\n",
        "test_3 = 3 #11\n",
        "test_4 = 255 #11111111\n",
        "\n",
        "print(get_bit(test_1) == 1, '\\n', \n",
        "      get_bit(test_2) == 1, '\\n',\n",
        "      get_bit(test_3) == 2, '\\n',\n",
        "      get_bit(test_4) == 8)"
      ]
    },
    {
      "cell_type": "markdown",
      "metadata": {
        "id": "26dDUz-Ae17N"
      },
      "source": [
        "# Задача 4\n",
        "Написать функцию, которая принимает положительное число. Функция должна вернуть то,\n",
        "сколько раз необходимо перемножать цифры числа или результат перемножения, чтобы\n",
        "получилось число состоящее из одной цифры.\n",
        "Например, для входного числа:\n",
        "· 39 функция должна вернуть 3, так как 3*9=27 => 2*7=14 => 1*4=4\n",
        "· 4 функция должна вернуть 0, так как число уже состоит из одной цифры\n",
        "· 999 функция должна вернуть 4, так как 9*9*9=729 => 7*2*9=126 => 1*2*6=12 =>\n",
        "1*2=2. Написать тесты для кода"
      ]
    },
    {
      "cell_type": "code",
      "execution_count": 16,
      "metadata": {
        "id": "BH1A_Mgi6i4G"
      },
      "outputs": [
        {
          "name": "stdout",
          "output_type": "stream",
          "text": [
            "True True True\n"
          ]
        }
      ],
      "source": [
        "def magic(n):\n",
        "    steps = 0\n",
        "    \n",
        "    while n >= 10:\n",
        "        product = 1\n",
        "        for digit in str(n):\n",
        "            product *= int(digit)\n",
        "        \n",
        "        n = product\n",
        "        steps += 1\n",
        "    \n",
        "    return steps\n",
        "\n",
        "test_1 = 39\n",
        "test_2 = 999\n",
        "test_3 = 4\n",
        "\n",
        "print(magic(test_1) == 3, magic(test_2) == 4, magic(test_3) == 0)"
      ]
    },
    {
      "cell_type": "markdown",
      "metadata": {
        "id": "0nS-kIa8g8vd"
      },
      "source": [
        "# Задача 5\n",
        "Написать функцию, которая принимает два целочисленных вектора одинаковой длины и\n",
        "возвращает среднеквадратическое отклонение двух векторов. Написать тесты для кода"
      ]
    },
    {
      "cell_type": "code",
      "execution_count": 17,
      "metadata": {
        "id": "8iphx4LM6xbx"
      },
      "outputs": [
        {
          "name": "stdout",
          "output_type": "stream",
          "text": [
            "True\n",
            "True\n",
            "True\n"
          ]
        }
      ],
      "source": [
        "def mse(pred, true):\n",
        "    # Your code goes here\n",
        "    return sum((p - t) ** 2 for p, t in zip(pred, true)) / len(pred)\n",
        "\n",
        "print(mse([1, 2, 3], [1, 2, 3]) == 0.0)\n",
        "    \n",
        "print(mse([1, 2, 3], [2, 3, 4]) == 1.0)\n",
        "    \n",
        "print(mse([3, 5, 7], [1, 4, 9]) == 3.0)"
      ]
    },
    {
      "cell_type": "markdown",
      "metadata": {
        "id": "vpIPKL439zkw"
      },
      "source": [
        "# Задача 6\n",
        "Написать функцию, принимающая целое положительное число. Функция должна вернуть\n",
        "строку вида “(n1**p1)(n2**p2)…(nk**pk)” представляющая разложение числа на простые\n",
        "множители (если pi == 1, то выводить только ni).\n",
        "Например, для числа 86240 функция должна вернуть “(2**5)(5)(7**2)(11)”. Написать тесты для кода"
      ]
    },
    {
      "cell_type": "code",
      "execution_count": null,
      "metadata": {
        "id": "pFebmcZk94Jw"
      },
      "outputs": [],
      "source": [
        "# Your code goes here"
      ]
    },
    {
      "cell_type": "markdown",
      "metadata": {
        "id": "ps2s0BudX7A2"
      },
      "source": [
        "# Задача 7\n",
        "Написать функцию, принимающая целое число n, задающее количество кубиков. Функция\n",
        "должна определить, можно ли из данного кол-ва кубиков построить пирамиду, то есть\n",
        "можно ли представить число n как 1^2+2^2+3^2+…+k^2. Если можно, то функция должна\n",
        "вернуть k, иначе строку “It is impossible”. Написать тесты для кода"
      ]
    },
    {
      "cell_type": "code",
      "execution_count": null,
      "metadata": {
        "id": "3YPjEXxhX_YT"
      },
      "outputs": [
        {
          "name": "stdout",
          "output_type": "stream",
          "text": [
            "True True True True\n"
          ]
        }
      ],
      "source": [
        "def pyramid(number):\n",
        "    # Your code goes here\n",
        "    total = 0\n",
        "    k = 0\n",
        "    \n",
        "    while total < number:\n",
        "        k += 1\n",
        "        total += k * k\n",
        "        \n",
        "        if total == number:\n",
        "            return k\n",
        "    \n",
        "    return \"It is impossible\"\n",
        "\n",
        "test_1 = 1\n",
        "test_2 = 2\n",
        "test_3 = 14\n",
        "test_4 = 0\n",
        "\n",
        "print(pyramid(test_1) == 1, pyramid(test_2) == \"It is impossible\", pyramid(test_3) == 3, pyramid(test_4) == \"It is impossible\")"
      ]
    },
    {
      "cell_type": "markdown",
      "metadata": {
        "id": "KeKgmIdAQMEJ"
      },
      "source": [
        "# Задача 8\n",
        "Функция принимает на вход положительное число и определяет является ли оно сбалансированным, т.е. сумма цифр до средних равна сумме цифр после. Средними в случае нечетного числа цифр считать одну цифру, в случае четного - две средних. Написать тесты для кода"
      ]
    },
    {
      "cell_type": "code",
      "execution_count": 27,
      "metadata": {
        "id": "gMAAqtqlQrZt"
      },
      "outputs": [
        {
          "name": "stdout",
          "output_type": "stream",
          "text": [
            "True\n",
            "True\n",
            "True\n",
            "True\n",
            "False\n",
            "False\n"
          ]
        }
      ],
      "source": [
        "# Your code goes here\n",
        "def balance_number(num):\n",
        "    num_str = str(num)\n",
        "    length = len(num_str)\n",
        "    \n",
        "    if length % 2 == 0:\n",
        "        mid = length // 2\n",
        "        left_sum = sum(int(digit) for digit in num_str[:mid - 1])\n",
        "        right_sum = sum(int(digit) for digit in num_str[mid + 1:])\n",
        "    else:\n",
        "        mid = length // 2\n",
        "        left_sum = sum(int(digit) for digit in num_str[:mid])\n",
        "        right_sum = sum(int(digit) for digit in num_str[mid + 1:])\n",
        "    \n",
        "    return left_sum == right_sum\n",
        "    \n",
        "print(balance_number(111111))\n",
        "print(balance_number(11111))\n",
        "print(balance_number(121321))\n",
        "print(balance_number(11411))\n",
        "print(balance_number(121111))\n",
        "print(balance_number(11341))"
      ]
    }
  ],
  "metadata": {
    "colab": {
      "provenance": []
    },
    "kernelspec": {
      "display_name": "Python 3",
      "name": "python3"
    },
    "language_info": {
      "codemirror_mode": {
        "name": "ipython",
        "version": 3
      },
      "file_extension": ".py",
      "mimetype": "text/x-python",
      "name": "python",
      "nbconvert_exporter": "python",
      "pygments_lexer": "ipython3",
      "version": "3.13.9"
    }
  },
  "nbformat": 4,
  "nbformat_minor": 0
}
