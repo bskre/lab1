{
  "cells": [
    {
      "cell_type": "markdown",
      "metadata": {
        "id": "vC84e9kzyxPy"
      },
      "source": [
        "<h1>Импорт библиотек"
      ]
    },
    {
      "cell_type": "code",
      "execution_count": 54,
      "metadata": {
        "id": "cgKeNegmQG5S"
      },
      "outputs": [],
      "source": [
        "import numpy as np\n",
        "import matplotlib.pyplot as plt\n",
        "import sys\n",
        "\n",
        "np.set_printoptions(threshold=sys.maxsize, linewidth=sys.maxsize)"
      ]
    },
    {
      "cell_type": "markdown",
      "metadata": {
        "id": "qFM9uVU2x4Ls"
      },
      "source": [
        "<h1>Задача 1. Дан набор из $p$ матриц размерностью $(n, n)$ и $p$ векторов размерностью $(n, 1)$, найти сумму произведений матриц на векторы. Написать тесты для кода"
      ]
    },
    {
      "cell_type": "code",
      "execution_count": null,
      "metadata": {
        "id": "IAbUvEiYyWFF"
      },
      "outputs": [
        {
          "name": "stdout",
          "output_type": "stream",
          "text": [
            "X:\n",
            "[[[1 1 1 0 1]\n",
            "  [0 0 1 0 0]\n",
            "  [1 1 0 0 1]\n",
            "  [0 1 1 0 0]\n",
            "  [1 0 0 0 1]]\n",
            "\n",
            " [[0 0 0 0 0]\n",
            "  [1 1 0 1 1]\n",
            "  [0 1 1 0 1]\n",
            "  [1 1 0 0 1]\n",
            "  [1 0 0 0 0]]\n",
            "\n",
            " [[1 0 0 1 0]\n",
            "  [0 0 0 0 0]\n",
            "  [1 0 1 0 0]\n",
            "  [1 1 0 1 1]\n",
            "  [1 1 1 1 1]]]\n",
            "v:\n",
            "[[[0]\n",
            "  [1]\n",
            "  [0]\n",
            "  [0]\n",
            "  [1]]\n",
            "\n",
            " [[1]\n",
            "  [0]\n",
            "  [1]\n",
            "  [1]\n",
            "  [1]]\n",
            "\n",
            " [[1]\n",
            "  [1]\n",
            "  [1]\n",
            "  [1]\n",
            "  [0]]]\n",
            "result:\n",
            "[[2.]\n",
            " [1.]\n",
            " [5.]\n",
            " [7.]\n",
            " [3.]]\n"
          ]
        }
      ],
      "source": [
        "def sum_prod(X, V):\n",
        "    '''\n",
        "    X - матрицы (n, n)\n",
        "    V - векторы (n, 1)\n",
        "    Гарантируется, что len(X) == len(V)\n",
        "    '''\n",
        "    # Your code goes here\n",
        "    result = np.zeros((X.shape[2], 1))\n",
        "    \n",
        "    for i in range(len(X)):\n",
        "        for k in range(X.shape[1]):\n",
        "            for j in range(X.shape[2]):\n",
        "                result[k, 0] += V[i, k, 0] * X[i, k, j]\n",
        "\n",
        "    return result\n",
        "\n",
        "n = 5\n",
        "X = np.random.randint(0, 2, (3, n, n))\n",
        "\n",
        "V = np.random.randint(0, 2, (3, n, 1))\n",
        "\n",
        "\n",
        "print(f'X:\\n{X}\\nv:\\n{V}')\n",
        "print(f'result:\\n{sum_prod(X, V)}')"
      ]
    },
    {
      "cell_type": "markdown",
      "metadata": {
        "id": "TKwPG4fIy2w4"
      },
      "source": [
        "<h1>Задача 2. Дана матрица M, напишите функцию, которая бинаризует матрицу по некоторому threshold (то есть, все значения большие threshold становятся равными 1, иначе 0). Напишите тесты для кода"
      ]
    },
    {
      "cell_type": "code",
      "execution_count": null,
      "metadata": {
        "id": "KQDNMgsjRNH7"
      },
      "outputs": [
        {
          "name": "stdout",
          "output_type": "stream",
          "text": [
            "[[5 1 5 4 1 4]\n",
            " [5 1 5 4 5 6]]\n",
            "[[1. 0. 1. 0. 0. 0.]\n",
            " [1. 0. 1. 0. 1. 1.]]\n"
          ]
        }
      ],
      "source": [
        "\n",
        "def binarize(M, threshold=0.5):\n",
        "    # Your code goes here\n",
        "    result = np.empty((M.shape[0], M.shape[1]))\n",
        "    for i in range(M.shape[0]):\n",
        "        for j in range(M.shape[1]):\n",
        "            result[i, j] = 1 if M[i, j] > threshold else 0\n",
        "\n",
        "    return result\n",
        "\n",
        "M = np.random.randint(0, 8, (2, 6))\n",
        "print(M)\n",
        "print(binarize(M, 4))"
      ]
    },
    {
      "cell_type": "markdown",
      "metadata": {
        "id": "IY5L-h-7zWhN"
      },
      "source": [
        "<h1>Задача 3. Напишите функцию, которая возвращает уникальные элементы из каждой строки матрицы. Напишите такую же функцию, но для столбцов. Напишите тесты для кода"
      ]
    },
    {
      "cell_type": "code",
      "execution_count": null,
      "metadata": {
        "id": "-8dEZhR0SBC-"
      },
      "outputs": [
        {
          "name": "stdout",
          "output_type": "stream",
          "text": [
            "[[6 5 8 1 2 1 4 3 2 1]\n",
            " [1 6 0 5 7 5 1 1 4 5]\n",
            " [3 2 4 4 5 5 2 6 1 3]\n",
            " [5 1 6 1 0 7 6 8 3 6]\n",
            " [6 1 1 5 4 1 0 1 0 3]\n",
            " [1 4 8 5 4 5 8 8 0 0]\n",
            " [5 5 2 6 4 2 5 7 0 3]\n",
            " [1 2 2 3 5 1 0 7 0 4]\n",
            " [4 6 6 5 3 1 1 3 1 4]\n",
            " [5 8 8 7 8 3 6 5 4 6]]\n",
            "\n",
            "rows\n",
            "\n",
            "[1 2 3 4 5 6 8]\n",
            "[0 1 4 5 6 7]\n",
            "[1 2 3 4 5 6]\n",
            "[0 1 3 5 6 7 8]\n",
            "[0 1 3 4 5 6]\n",
            "[0 1 4 5 8]\n",
            "[0 2 3 4 5 6 7]\n",
            "[0 1 2 3 4 5 7]\n",
            "[1 3 4 5 6]\n",
            "[3 4 5 6 7 8]\n",
            "\n",
            "column\n",
            "\n",
            "[1 3 4 5 6]\n",
            "[1 2 4 5 6 8]\n",
            "[0 1 2 4 6 8]\n",
            "[1 3 4 5 6 7]\n",
            "[0 2 3 4 5 7 8]\n",
            "[1 2 3 5 7]\n",
            "[0 1 2 4 5 6 8]\n",
            "[1 3 5 6 7 8]\n",
            "[0 1 2 3 4]\n",
            "[0 1 3 4 5 6]\n"
          ]
        }
      ],
      "source": [
        "def unique_rows(mat):\n",
        "    # Your code goes here\n",
        "    for i in range(mat.shape[0]):\n",
        "        yield np.unique(mat[i])\n",
        "\n",
        "\n",
        "def unique_columns(mat):\n",
        "    # Your code goes here\n",
        "    for j in range(mat.shape[1]):\n",
        "        yield np.unique(mat[:, j])\n",
        "\n",
        "\n",
        "mat = np.random.randint(0, 9, (10, 10))\n",
        "\n",
        "print(mat)\n",
        "generator_r = unique_rows(mat)\n",
        "generator_c = unique_columns(mat)\n",
        "\n",
        "print('\\nrows\\n')\n",
        "for unique_row in generator_r:\n",
        "    print(unique_row)\n",
        "\n",
        "print('\\ncolumn\\n')\n",
        "for unique_column in generator_c:\n",
        "    print(unique_column)\n"
      ]
    },
    {
      "cell_type": "markdown",
      "metadata": {
        "id": "roYAlo4Jz-lH"
      },
      "source": [
        "<h1>Задача 4. Напишите функцию, которая заполняет матрицу с размерами $(m, n)$ случайными числами, распределенными по нормальному закону. Затем считает мат. ожидание и дисперсию для каждого из столбцов и строк, а также строит для каждой строки и столбца гистограмму значений (использовать функцию hist из модуля matplotlib.plot)"
      ]
    },
    {
      "cell_type": "code",
      "execution_count": 79,
      "metadata": {
        "id": "nZK_71hMSQzv"
      },
      "outputs": [
        {
          "name": "stdout",
          "output_type": "stream",
          "text": [
            "[[ 2.07328749 -0.5550071  -0.67131446 -0.59664703  0.31278206 -0.1694633   1.32898112 -1.449379    0.15972562  1.20469685]\n",
            " [ 1.27860668  0.9695193  -0.84148235  0.03565207  0.50856211  1.00389707 -0.81788722 -0.30437616  0.03336555  0.40774341]]\n"
          ]
        }
      ],
      "source": [
        "# Your code goes here\n",
        "def random_mat(M, loc=0, scale=1):\n",
        "    M = np.random.normal(loc, scale, (M.shape))\n",
        "    return M\n",
        "\n",
        "M = np.empty((2, 10))\n",
        "print(random_mat(M))"
      ]
    },
    {
      "cell_type": "markdown",
      "metadata": {
        "id": "BDyATNdM0dJ2"
      },
      "source": [
        "<h1>Задача 5. Напишите функцию, которая заполняет матрицу $(m, n)$ в шахматном порядке заданными числами $a$ и $b$. Напишите тесты для кода"
      ]
    },
    {
      "cell_type": "code",
      "execution_count": 82,
      "metadata": {
        "id": "RWNJYWQGecS6"
      },
      "outputs": [
        {
          "ename": "TypeError",
          "evalue": "'int' object is not iterable",
          "output_type": "error",
          "traceback": [
            "\u001b[31m---------------------------------------------------------------------------\u001b[39m",
            "\u001b[31mTypeError\u001b[39m                                 Traceback (most recent call last)",
            "\u001b[36mCell\u001b[39m\u001b[36m \u001b[39m\u001b[32mIn[82]\u001b[39m\u001b[32m, line 9\u001b[39m\n\u001b[32m      6\u001b[39m             M[i, j] = a \u001b[38;5;28;01mif\u001b[39;00m (i % \u001b[32m2\u001b[39m == \u001b[32m0\u001b[39m \u001b[38;5;129;01mand\u001b[39;00m j % \u001b[32m2\u001b[39m == \u001b[32m0\u001b[39m) \u001b[38;5;129;01mor\u001b[39;00m (i % \u001b[32m2\u001b[39m == \u001b[32m1\u001b[39m \u001b[38;5;129;01mand\u001b[39;00m j % \u001b[32m2\u001b[39m == \u001b[32m1\u001b[39m) \u001b[38;5;28;01melse\u001b[39;00m b\n\u001b[32m      7\u001b[39m     \u001b[38;5;28;01mreturn\u001b[39;00m M\n\u001b[32m----> \u001b[39m\u001b[32m9\u001b[39m \u001b[38;5;28mprint\u001b[39m(\u001b[43mchess\u001b[49m\u001b[43m(\u001b[49m\u001b[32;43m3\u001b[39;49m\u001b[43m,\u001b[49m\u001b[43m \u001b[49m\u001b[32;43m4\u001b[39;49m\u001b[43m,\u001b[49m\u001b[43m \u001b[49m\u001b[32;43m2\u001b[39;49m\u001b[43m,\u001b[49m\u001b[43m \u001b[49m\u001b[32;43m1\u001b[39;49m\u001b[43m)\u001b[49m)\n",
            "\u001b[36mCell\u001b[39m\u001b[36m \u001b[39m\u001b[32mIn[82]\u001b[39m\u001b[32m, line 4\u001b[39m, in \u001b[36mchess\u001b[39m\u001b[34m(m, n, a, b)\u001b[39m\n\u001b[32m      1\u001b[39m \u001b[38;5;28;01mdef\u001b[39;00m\u001b[38;5;250m \u001b[39m\u001b[34mchess\u001b[39m(m, n, a, b):\n\u001b[32m      2\u001b[39m     \u001b[38;5;66;03m# Your code goes here\u001b[39;00m\n\u001b[32m      3\u001b[39m     M = np.full((m, n), a)\n\u001b[32m----> \u001b[39m\u001b[32m4\u001b[39m \u001b[43m    \u001b[49m\u001b[38;5;28;43;01mfor\u001b[39;49;00m\u001b[43m \u001b[49m\u001b[43mi\u001b[49m\u001b[43m \u001b[49m\u001b[38;5;129;43;01min\u001b[39;49;00m\u001b[43m \u001b[49m\u001b[43mM\u001b[49m\u001b[43m.\u001b[49m\u001b[43mshape\u001b[49m\u001b[43m[\u001b[49m\u001b[32;43m0\u001b[39;49m\u001b[43m]\u001b[49m\u001b[43m:\u001b[49m\n\u001b[32m      5\u001b[39m \u001b[43m        \u001b[49m\u001b[38;5;28;43;01mfor\u001b[39;49;00m\u001b[43m \u001b[49m\u001b[43mj\u001b[49m\u001b[43m \u001b[49m\u001b[38;5;129;43;01min\u001b[39;49;00m\u001b[43m \u001b[49m\u001b[43mM\u001b[49m\u001b[43m.\u001b[49m\u001b[43mshape\u001b[49m\u001b[43m[\u001b[49m\u001b[32;43m1\u001b[39;49m\u001b[43m]\u001b[49m\u001b[43m:\u001b[49m\n\u001b[32m      6\u001b[39m \u001b[43m            \u001b[49m\u001b[43mM\u001b[49m\u001b[43m[\u001b[49m\u001b[43mi\u001b[49m\u001b[43m,\u001b[49m\u001b[43m \u001b[49m\u001b[43mj\u001b[49m\u001b[43m]\u001b[49m\u001b[43m \u001b[49m\u001b[43m=\u001b[49m\u001b[43m \u001b[49m\u001b[43ma\u001b[49m\u001b[43m \u001b[49m\u001b[38;5;28;43;01mif\u001b[39;49;00m\u001b[43m \u001b[49m\u001b[43m(\u001b[49m\u001b[43mi\u001b[49m\u001b[43m \u001b[49m\u001b[43m%\u001b[49m\u001b[43m \u001b[49m\u001b[32;43m2\u001b[39;49m\u001b[43m \u001b[49m\u001b[43m==\u001b[49m\u001b[43m \u001b[49m\u001b[32;43m0\u001b[39;49m\u001b[43m \u001b[49m\u001b[38;5;129;43;01mand\u001b[39;49;00m\u001b[43m \u001b[49m\u001b[43mj\u001b[49m\u001b[43m \u001b[49m\u001b[43m%\u001b[49m\u001b[43m \u001b[49m\u001b[32;43m2\u001b[39;49m\u001b[43m \u001b[49m\u001b[43m==\u001b[49m\u001b[43m \u001b[49m\u001b[32;43m0\u001b[39;49m\u001b[43m)\u001b[49m\u001b[43m \u001b[49m\u001b[38;5;129;43;01mor\u001b[39;49;00m\u001b[43m \u001b[49m\u001b[43m(\u001b[49m\u001b[43mi\u001b[49m\u001b[43m \u001b[49m\u001b[43m%\u001b[49m\u001b[43m \u001b[49m\u001b[32;43m2\u001b[39;49m\u001b[43m \u001b[49m\u001b[43m==\u001b[49m\u001b[43m \u001b[49m\u001b[32;43m1\u001b[39;49m\u001b[43m \u001b[49m\u001b[38;5;129;43;01mand\u001b[39;49;00m\u001b[43m \u001b[49m\u001b[43mj\u001b[49m\u001b[43m \u001b[49m\u001b[43m%\u001b[49m\u001b[43m \u001b[49m\u001b[32;43m2\u001b[39;49m\u001b[43m \u001b[49m\u001b[43m==\u001b[49m\u001b[43m \u001b[49m\u001b[32;43m1\u001b[39;49m\u001b[43m)\u001b[49m\u001b[43m \u001b[49m\u001b[38;5;28;43;01melse\u001b[39;49;00m\u001b[43m \u001b[49m\u001b[43mb\u001b[49m\n",
            "\u001b[31mTypeError\u001b[39m: 'int' object is not iterable"
          ]
        }
      ],
      "source": [
        "def chess(m, n, a, b):\n",
        "    # Your code goes here\n",
        "    M = np.full((m, n), a)\n",
        "    for i in M.shape[0]:\n",
        "        for j in M.shape[1]:\n",
        "            M[i, j] = a if (i % 2 == 0 and j % 2 == 0) or (i % 2 == 1 and j % 2 == 1) else b\n",
        "    return M\n",
        "\n",
        "print(chess(3, 4, 2, 1))"
      ]
    },
    {
      "cell_type": "markdown",
      "metadata": {
        "id": "-ymXLtTN0vB6"
      },
      "source": [
        "<h1>Задача 6. Напишите функцию, которая отрисовывает прямоугольник с заданными размерами (a, b) на изображении размера (m, n), цвет фона задайте в схеме RGB, как и цвет прямоугольника. Цвета также должны быть параметрами функции. Напишите аналогичную функцию но для овала с полуосями a и b. Напишите тесты для кода.\n",
        "Примечание: уравнение эллипса (границы овала) можно записать как:\n",
        "<h1>$\\frac{(x-x_0)^2}{a^2}+\\frac{(y-y_0)^2}{b^2}=1$"
      ]
    },
    {
      "cell_type": "code",
      "execution_count": null,
      "metadata": {
        "id": "sNfl1t_kfOF4"
      },
      "outputs": [],
      "source": [
        "def draw_rectangle(a, b, m, n, rectangle_color, background_color):\n",
        "    # Your code goes here\n",
        "    pass\n",
        "\n",
        "def draw_ellipse(a, b, m, n, ellipse_color, background_color):\n",
        "    # Your code goes here\n",
        "    pass"
      ]
    },
    {
      "cell_type": "markdown",
      "metadata": {
        "id": "S82c38oz244H"
      },
      "source": [
        "<h1>Задача 7. Дан некий временной ряд. Для данного ряда нужно найти его: математическое ожидание, дисперсию, СКО, найти все локальные максимумы и минимумы (локальный максимум - это точка, которая больше своих соседних точек, а локальный минимум - это точка, которая меньше своих соседей), а также вычислить для данного ряда другой ряд, получаемый методом скользящего среднего с размером окна $p$.\n",
        "<h1>Примечание: метод скользящего среднего подразумевает нахождение среднего из подмножетсва ряда размером $p$"
      ]
    },
    {
      "cell_type": "code",
      "execution_count": null,
      "metadata": {
        "id": "Zb9mIVge5MMt"
      },
      "outputs": [],
      "source": [
        "# Your code goes here"
      ]
    },
    {
      "cell_type": "markdown",
      "metadata": {
        "id": "jPkylmOX5O9n"
      },
      "source": [
        "<h1> Задача 8. Дан некоторый вектор с целочисленными метками классов, напишите функцию, которая выполняет one-hot-encoding для данного вектора\n",
        "<h1> One-hot-encoding - представление, в котором на месте метки некоторого класса стоит 1, в остальных позициях стоит 0. Например для вектора [0, 2, 3, 0] one-hot-encoding выглядит как: [[1, 0, 0, 0], [0, 0, 1, 0], [0, 0, 0, 1], [1, 0, 0, 0]]"
      ]
    },
    {
      "cell_type": "code",
      "execution_count": null,
      "metadata": {
        "id": "Y-jlnZvw56lD"
      },
      "outputs": [],
      "source": [
        "# Your code goes here"
      ]
    }
  ],
  "metadata": {
    "colab": {
      "provenance": []
    },
    "kernelspec": {
      "display_name": "Python 3",
      "name": "python3"
    },
    "language_info": {
      "codemirror_mode": {
        "name": "ipython",
        "version": 3
      },
      "file_extension": ".py",
      "mimetype": "text/x-python",
      "name": "python",
      "nbconvert_exporter": "python",
      "pygments_lexer": "ipython3",
      "version": "3.13.9"
    }
  },
  "nbformat": 4,
  "nbformat_minor": 0
}
